{
 "cells": [
  {
   "cell_type": "markdown",
   "metadata": {},
   "source": [
    "### Контрольное мероприятие №1\n",
    "\n",
    "| Автор        | Дата последнего обновления |\n",
    "|:------------:|:--------------------------:|\n",
    "| Чушников Е.О.| 15.03.2024                 |"
   ]
  },
  {
   "cell_type": "code",
   "execution_count": 121,
   "metadata": {},
   "outputs": [],
   "source": [
    "import random\n",
    "import pytest\n",
    "import asyncio\n",
    "from datetime import datetime"
   ]
  },
  {
   "cell_type": "markdown",
   "metadata": {},
   "source": [
    "<h3 align=\"center\"> 1. Декораторы </h1>"
   ]
  },
  {
   "cell_type": "markdown",
   "metadata": {},
   "source": [
    "<h4 align=\"left\">1.1 Случайным образом выбрать один из алгоритмов из папки \"КМ1 алгоритмы.</h4>"
   ]
  },
  {
   "cell_type": "code",
   "execution_count": 122,
   "metadata": {},
   "outputs": [
    {
     "name": "stdout",
     "output_type": "stream",
     "text": [
      "20\n"
     ]
    }
   ],
   "source": [
    "print(random.randint(1, 33))"
   ]
  },
  {
   "cell_type": "markdown",
   "metadata": {},
   "source": [
    "Выбранная функция для тестирования:"
   ]
  },
  {
   "cell_type": "code",
   "execution_count": 123,
   "metadata": {},
   "outputs": [],
   "source": [
    "def hamming_distance(string1: str, string2: str) -> int:\n",
    "    \"\"\"Calculate the Hamming distance between two equal length strings\n",
    "    In information theory, the Hamming distance between two strings of equal\n",
    "    length is the number of positions at which the corresponding symbols are\n",
    "    different. https://en.wikipedia.org/wiki/Hamming_distance\n",
    "\n",
    "    Args:\n",
    "        string1 (str): Sequence 1\n",
    "        string2 (str): Sequence 2\n",
    "\n",
    "    Returns:\n",
    "        int: Hamming distance\n",
    "    \"\"\"\n",
    "    if len(string1) != len(string2):\n",
    "        raise ValueError(\"String lengths must match!\")\n",
    "\n",
    "    count = 0\n",
    "\n",
    "    for char1, char2 in zip(string1, string2):\n",
    "        if char1 != char2:\n",
    "            count += 1\n",
    "\n",
    "    return count"
   ]
  },
  {
   "cell_type": "markdown",
   "metadata": {},
   "source": [
    "1.2. Случайным образом выбрать одну из целевых задач для\n",
    "декорирования:\n",
    "1.2.1. отладка функции (добрался ли алгоритм до той или иной части кода,\n",
    "выполнилось ли целевое условие ветвления, какое количество раз сработал\n",
    "цикл и т. д.);\n",
    "1.2.2. профилирование кода (оценка времени исполнения программы\n",
    "целиком или какой-то из частей);\n",
    "1.2.3. сохранение промежуточных данных;\n",
    "1.2.4. тестирование кода."
   ]
  },
  {
   "cell_type": "code",
   "execution_count": 124,
   "metadata": {},
   "outputs": [
    {
     "name": "stdout",
     "output_type": "stream",
     "text": [
      "отладка функции\n"
     ]
    }
   ],
   "source": [
    "p=(random.randint(1, 4))\n",
    "if (p==1):\n",
    "    print('отладка функции')\n",
    "elif (p==2):\n",
    "    print('профилирование кода')\n",
    "elif (p==3):\n",
    "    print('сохранение промежуточных данных')\n",
    "elif (p==4):\n",
    "    print('тестирование кода')         "
   ]
  },
  {
   "cell_type": "markdown",
   "metadata": {},
   "source": [
    "1.3. Для функции, выбранной в пункте 1.1, создать декоратор,\n",
    "выполняющий задачу, выбранную в пункте 1.2."
   ]
  },
  {
   "cell_type": "code",
   "execution_count": 125,
   "metadata": {},
   "outputs": [],
   "source": [
    "def func_Decorator(func):\n",
    "    def Wrapper (*args):\n",
    "        for arg in args:\n",
    "            if (isinstance(arg, str)):\n",
    "                print(\"аргумент имеет тип данных строка\")\n",
    "            else: print(\"аргумент не строка\")\n",
    "        res = func(*args)\n",
    "        return res\n",
    "    return Wrapper"
   ]
  },
  {
   "cell_type": "markdown",
   "metadata": {},
   "source": [
    "Подключение декоратора "
   ]
  },
  {
   "cell_type": "code",
   "execution_count": 126,
   "metadata": {},
   "outputs": [],
   "source": [
    "@func_Decorator\n",
    "def hamming_distance(string1: str, string2: str) -> int:\n",
    "    if len(string1) != len(string2):\n",
    "        raise ValueError(\"String lengths must match!\")\n",
    "\n",
    "    count = 0\n",
    "\n",
    "    for char1, char2 in zip(string1, string2):\n",
    "        if char1 != char2:\n",
    "            count += 1\n",
    "\n",
    "    return count"
   ]
  },
  {
   "cell_type": "code",
   "execution_count": 127,
   "metadata": {},
   "outputs": [
    {
     "name": "stdout",
     "output_type": "stream",
     "text": [
      "аргумент имеет тип данных строка\n",
      "аргумент имеет тип данных строка\n"
     ]
    },
    {
     "data": {
      "text/plain": [
       "4"
      ]
     },
     "execution_count": 127,
     "metadata": {},
     "output_type": "execute_result"
    }
   ],
   "source": [
    "A='hello'\n",
    "B='world'\n",
    "hamming_distance(A,B)"
   ]
  },
  {
   "cell_type": "markdown",
   "metadata": {},
   "source": [
    "1.4 Добавить к декоратору параметр, исходя из контекста  пунктов 1.1 и 1.2\n"
   ]
  },
  {
   "cell_type": "code",
   "execution_count": 128,
   "metadata": {},
   "outputs": [],
   "source": [
    "def func_Decorator_WithDebug(DebugMod):\n",
    "    def func_Decorator(func):\n",
    "        def wrapper (*args):\n",
    "            if DebugMod :\n",
    "                for arg in args:\n",
    "                    if (isinstance(arg, str)):\n",
    "                        print(\"аргумент имеет тип данных строка\")\n",
    "                    else: print(\"аргумент не строка\")\n",
    "            res = func(*args)\n",
    "            return res\n",
    "        return wrapper \n",
    "    return func_Decorator"
   ]
  },
  {
   "cell_type": "markdown",
   "metadata": {},
   "source": [
    "Подключение декоратора с параметром "
   ]
  },
  {
   "cell_type": "code",
   "execution_count": 129,
   "metadata": {},
   "outputs": [],
   "source": [
    "debugMod = True\n",
    "@func_Decorator_WithDebug(debugMod)\n",
    "def hamming_distance(string1: str, string2: str) -> int:\n",
    "    if len(string1) != len(string2):\n",
    "        raise ValueError(\"String lengths must match!\")\n",
    "\n",
    "    count = 0\n",
    "\n",
    "    for char1, char2 in zip(string1, string2):\n",
    "        if char1 != char2:\n",
    "            count += 1\n",
    "\n",
    "    return count"
   ]
  },
  {
   "cell_type": "code",
   "execution_count": 130,
   "metadata": {},
   "outputs": [
    {
     "name": "stdout",
     "output_type": "stream",
     "text": [
      "аргумент имеет тип данных строка\n",
      "аргумент имеет тип данных строка\n"
     ]
    },
    {
     "data": {
      "text/plain": [
       "4"
      ]
     },
     "execution_count": 130,
     "metadata": {},
     "output_type": "execute_result"
    }
   ],
   "source": [
    "A='hello'\n",
    "B='world'\n",
    "hamming_distance(A,B)"
   ]
  },
  {
   "cell_type": "markdown",
   "metadata": {},
   "source": [
    "2.1. Провести тестирование функции, выбранной в пункте 1.1., используя\n",
    "assert. Предложить не менее 5 тестов, в том числе тесты, приводящие к\n",
    "аварийному завершению кода."
   ]
  },
  {
   "cell_type": "code",
   "execution_count": 131,
   "metadata": {},
   "outputs": [
    {
     "name": "stdout",
     "output_type": "stream",
     "text": [
      "Overwriting ./main.py\n"
     ]
    }
   ],
   "source": [
    "%%writefile ./main.py\n",
    "def hamming_distance(string1: str, string2: str) -> int:\n",
    "    assert  type(string1) is  str, 'введенные данные  не являются строкой '\n",
    "    assert  type(string2) is  str, 'введенные данные  не являются строкой '\n",
    "    assert  len(string2)==len(string1), 'длина строк не совпадает'\n",
    "\n",
    "    count = 0\n",
    "\n",
    "    for char1, char2 in zip(string1, string2):\n",
    "        if char1 != char2:\n",
    "            count += 1\n",
    "    assert count!=0,  'все элементы совпадают'\n",
    "    assert count!=len(string1), 'все элементы не совпадают'\n",
    "    return count"
   ]
  },
  {
   "cell_type": "code",
   "execution_count": 132,
   "metadata": {},
   "outputs": [
    {
     "name": "stdout",
     "output_type": "stream",
     "text": [
      "аргумент не строка\n",
      "аргумент имеет тип данных строка\n"
     ]
    },
    {
     "ename": "TypeError",
     "evalue": "object of type 'int' has no len()",
     "output_type": "error",
     "traceback": [
      "\u001b[1;31m---------------------------------------------------------------------------\u001b[0m",
      "\u001b[1;31mTypeError\u001b[0m                                 Traceback (most recent call last)",
      "Cell \u001b[1;32mIn[132], line 3\u001b[0m\n\u001b[0;32m      1\u001b[0m A\u001b[38;5;241m=\u001b[39m\u001b[38;5;241m1\u001b[39m\n\u001b[0;32m      2\u001b[0m B\u001b[38;5;241m=\u001b[39m\u001b[38;5;124m'\u001b[39m\u001b[38;5;124mworld\u001b[39m\u001b[38;5;124m'\u001b[39m\n\u001b[1;32m----> 3\u001b[0m \u001b[43mhamming_distance\u001b[49m\u001b[43m(\u001b[49m\u001b[43mA\u001b[49m\u001b[43m,\u001b[49m\u001b[43mB\u001b[49m\u001b[43m)\u001b[49m\n",
      "Cell \u001b[1;32mIn[128], line 9\u001b[0m, in \u001b[0;36mfunc_Decorator_WithDebug.<locals>.func_Decorator.<locals>.wrapper\u001b[1;34m(*args)\u001b[0m\n\u001b[0;32m      7\u001b[0m             \u001b[38;5;28mprint\u001b[39m(\u001b[38;5;124m\"\u001b[39m\u001b[38;5;124mаргумент имеет тип данных строка\u001b[39m\u001b[38;5;124m\"\u001b[39m)\n\u001b[0;32m      8\u001b[0m         \u001b[38;5;28;01melse\u001b[39;00m: \u001b[38;5;28mprint\u001b[39m(\u001b[38;5;124m\"\u001b[39m\u001b[38;5;124mаргумент не строка\u001b[39m\u001b[38;5;124m\"\u001b[39m)\n\u001b[1;32m----> 9\u001b[0m res \u001b[38;5;241m=\u001b[39m \u001b[43mfunc\u001b[49m\u001b[43m(\u001b[49m\u001b[38;5;241;43m*\u001b[39;49m\u001b[43margs\u001b[49m\u001b[43m)\u001b[49m\n\u001b[0;32m     10\u001b[0m \u001b[38;5;28;01mreturn\u001b[39;00m res\n",
      "Cell \u001b[1;32mIn[129], line 4\u001b[0m, in \u001b[0;36mhamming_distance\u001b[1;34m(string1, string2)\u001b[0m\n\u001b[0;32m      2\u001b[0m \u001b[38;5;129m@func_Decorator_WithDebug\u001b[39m(debugMod)\n\u001b[0;32m      3\u001b[0m \u001b[38;5;28;01mdef\u001b[39;00m \u001b[38;5;21mhamming_distance\u001b[39m(string1: \u001b[38;5;28mstr\u001b[39m, string2: \u001b[38;5;28mstr\u001b[39m) \u001b[38;5;241m-\u001b[39m\u001b[38;5;241m>\u001b[39m \u001b[38;5;28mint\u001b[39m:\n\u001b[1;32m----> 4\u001b[0m     \u001b[38;5;28;01mif\u001b[39;00m \u001b[38;5;28;43mlen\u001b[39;49m\u001b[43m(\u001b[49m\u001b[43mstring1\u001b[49m\u001b[43m)\u001b[49m \u001b[38;5;241m!=\u001b[39m \u001b[38;5;28mlen\u001b[39m(string2):\n\u001b[0;32m      5\u001b[0m         \u001b[38;5;28;01mraise\u001b[39;00m \u001b[38;5;167;01mValueError\u001b[39;00m(\u001b[38;5;124m\"\u001b[39m\u001b[38;5;124mString lengths must match!\u001b[39m\u001b[38;5;124m\"\u001b[39m)\n\u001b[0;32m      7\u001b[0m     count \u001b[38;5;241m=\u001b[39m \u001b[38;5;241m0\u001b[39m\n",
      "\u001b[1;31mTypeError\u001b[0m: object of type 'int' has no len()"
     ]
    }
   ],
   "source": [
    "A='world'\n",
    "B='world'\n",
    "hamming_distance(A,B)"
   ]
  },
  {
   "cell_type": "markdown",
   "metadata": {},
   "source": [
    "2.2. Повторить пункт 2.1, используя pytest."
   ]
  },
  {
   "cell_type": "code",
   "execution_count": null,
   "metadata": {},
   "outputs": [
    {
     "name": "stdout",
     "output_type": "stream",
     "text": [
      "Overwriting ./tests.py\n"
     ]
    }
   ],
   "source": [
    "%%writefile ./tests.py\n",
    "\n",
    "from main import *\n",
    "def test_one():\n",
    "    assert hamming_distance('hello','world') == 4 \n",
    "\n",
    "def test_two():\n",
    "    assert hamming_distance('motor','spirit') == 1\n",
    "\n",
    "def test_three():\n",
    "    assert hamming_distance('cover','volan') == 4\n",
    "\n",
    "def test_four():\n",
    "    assert hamming_distance('sorry','worry') == 1\n",
    "\n",
    "def test_five():\n",
    "    assert hamming_distance('dogs','cats') == 2"
   ]
  },
  {
   "attachments": {
    "image.png": {
     "image/png": "[encoded data removed]"
    }
   },
   "cell_type": "markdown",
   "metadata": {},
   "source": [
    "<h3 align=\"center\"> Результат выполнения pytest </h1>\n",
    "\n",
    "![image.png](attachment:image.png)"
   ]
  },
  {
   "cell_type": "markdown",
   "metadata": {},
   "source": [
    "3.1. Используя алгоритм, выбранный в п. 1.1, запустить три асинхронных\n",
    "потока, работающих с общими входными и выходными данными этого\n",
    "алгоритма."
   ]
  },
  {
   "cell_type": "code",
   "execution_count": null,
   "metadata": {},
   "outputs": [
    {
     "name": "stdout",
     "output_type": "stream",
     "text": [
      "Задача 1 запустилась в 23:14:21.24 время выполнения 6.0 [с] \n",
      "\n",
      "Задача 2 запустилась в 23:14:21.24 время выполнения 1.8 [с] \n",
      "\n",
      "Задача 3 запустилась в 23:14:21.24 время выполнения 6.2 [с] \n",
      "\n",
      "Задача 2 выполнена в 23:14:22.15\n",
      "\n",
      "Задача 1 выполнена в 23:14:24.25\n",
      "\n",
      "Задача 3 выполнена в 23:14:24.34\n",
      "\n"
     ]
    }
   ],
   "source": [
    "delays = [1.0, 2.0, 3.0]\n",
    "randomNoise = [-0.1, 0, 0.1]\n",
    "\n",
    "async def hamming_distance(task_no,delay,string1: str, string2: str) -> int:\n",
    "\n",
    "    print(f\"Задача {task_no} запустилась в {datetime.now().strftime('%H:%M:%S.%f')[:-4]} время выполнения {2*delay} [с] \")\n",
    "    print(\"\")\n",
    "    await asyncio.sleep(delay)\n",
    "\n",
    "    if len(string1) != len(string2):\n",
    "        raise ValueError(\"String lengths must match!\")\n",
    "\n",
    "    count = 0\n",
    "\n",
    "    for char1, char2 in zip(string1, string2):\n",
    "        if char1 != char2:\n",
    "            count += 1\n",
    "  \n",
    "    print(f\"Задача {task_no} выполнена в {datetime.now().strftime('%H:%M:%S.%f')[:-4]}\")\n",
    "    print(\"\")\n",
    "\n",
    "    return count\n",
    "\n",
    "async def main():    \n",
    "        delay = random.choice(delays) + random.choice(randomNoise)\n",
    "        task1  = loop.create_task (hamming_distance (1,delay,'hello','world'))\n",
    "        delay = random.choice(delays) + random.choice(randomNoise)\n",
    "        task2 = loop.create_task (hamming_distance (2,delay,'hello','world'))\n",
    "        delay = random.choice(delays) + random.choice(randomNoise)\n",
    "        task3 = loop.create_task (hamming_distance (3,delay,'hello','world'))\n",
    "\n",
    "        await asyncio.wait([task1,task2,task3])\n",
    "\n",
    "await main()"
   ]
  }
 ],
 "metadata": {
  "kernelspec": {
   "display_name": "Python 3",
   "language": "python",
   "name": "python3"
  },
  "language_info": {
   "codemirror_mode": {
    "name": "ipython",
    "version": 3
   },
   "file_extension": ".py",
   "mimetype": "text/x-python",
   "name": "python",
   "nbconvert_exporter": "python",
   "pygments_lexer": "ipython3",
   "version": "3.10.7"
  }
 },
 "nbformat": 4,
 "nbformat_minor": 2
}
