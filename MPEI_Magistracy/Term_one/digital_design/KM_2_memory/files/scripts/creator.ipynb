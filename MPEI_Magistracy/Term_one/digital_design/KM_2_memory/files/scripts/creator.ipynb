{
 "cells": [
  {
   "cell_type": "code",
   "execution_count": 3,
   "metadata": {},
   "outputs": [],
   "source": [
    "import random\n",
    "import numpy as np\n",
    "\n",
    "DATA_WIDTH=8\n",
    "ADDR_WIDTH=8\n",
    "f = open('ROM_8x8.txt','w+')\n",
    "for i in range(0,(2**ADDR_WIDTH) ):\n",
    "    v = random.randint(0, 2**DATA_WIDTH - 1) \n",
    "    v=bin(v)[2:]\n",
    "    v=str(v)\n",
    "    f.writelines([v,'\\n'])  \n",
    "f.close()"
   ]
  },
  {
   "cell_type": "code",
   "execution_count": null,
   "metadata": {},
   "outputs": [],
   "source": []
  }
 ],
 "metadata": {
  "kernelspec": {
   "display_name": "base",
   "language": "python",
   "name": "python3"
  },
  "language_info": {
   "codemirror_mode": {
    "name": "ipython",
    "version": 3
   },
   "file_extension": ".py",
   "mimetype": "text/x-python",
   "name": "python",
   "nbconvert_exporter": "python",
   "pygments_lexer": "ipython3",
   "version": "3.10.7"
  }
 },
 "nbformat": 4,
 "nbformat_minor": 2
}
