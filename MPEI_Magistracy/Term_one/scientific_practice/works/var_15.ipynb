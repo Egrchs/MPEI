{
 "cells": [
  {
   "cell_type": "code",
   "execution_count": 1,
   "metadata": {},
   "outputs": [],
   "source": [
    "import numpy as np\n",
    "import sympy as sym\n",
    "import pandas as pd\n",
    "import matplotlib.pyplot as plt "
   ]
  },
  {
   "cell_type": "code",
   "execution_count": 2,
   "metadata": {},
   "outputs": [],
   "source": [
    "q = sym.symbols(\"q\")         # Символ заряда\n",
    "ε = sym.symbols(\"ε\")         # Символ диэлектрической проницаемости кремния\n",
    "ε0 = sym.symbols(\"ε0\")       # Символ диэлектрической постоянной\n",
    "S = sym.symbols(\"S\")         # Символ площади\n",
    "φ = sym.symbols(\"φ\")         # Символ угла\n",
    "E0 = 8.85e-12                # Ф/см - диэлектрическая постоянная\n",
    "Es = 12                      # Диэлектрическая проницаемость кремния\n",
    "qq  = 1.6e-19                # Кл - элементарный заряд\n",
    "Ss = 5                       # мм^2 - Площадь \n",
    "fi = 0.73                    # Угол наклона\n",
    "Sd = 1                       # см - деление линейки\n",
    "fid  = 0.035                 # неопределенность угла"
   ]
  },
  {
   "cell_type": "markdown",
   "metadata": {},
   "source": [
    "Модель измерений"
   ]
  },
  {
   "cell_type": "code",
   "execution_count": 3,
   "metadata": {},
   "outputs": [
    {
     "data": {
      "text/latex": [
       "$\\displaystyle - \\frac{2}{S^{2} q ε ε_{0} \\tan{\\left(φ \\right)}}$"
      ],
      "text/plain": [
       "-2/(S**2*q*ε*ε0*tan(φ))"
      ]
     },
     "metadata": {},
     "output_type": "display_data"
    }
   ],
   "source": [
    "N = -2/(q*ε*ε0*S**2*sym.tan(φ))\n",
    "display(N)"
   ]
  },
  {
   "cell_type": "code",
   "execution_count": 4,
   "metadata": {},
   "outputs": [
    {
     "data": {
      "text/html": [
       "<div>\n",
       "<style scoped>\n",
       "    .dataframe tbody tr th:only-of-type {\n",
       "        vertical-align: middle;\n",
       "    }\n",
       "\n",
       "    .dataframe tbody tr th {\n",
       "        vertical-align: top;\n",
       "    }\n",
       "\n",
       "    .dataframe thead th {\n",
       "        text-align: right;\n",
       "    }\n",
       "</style>\n",
       "<table border=\"1\" class=\"dataframe\">\n",
       "  <thead>\n",
       "    <tr style=\"text-align: right;\">\n",
       "      <th></th>\n",
       "      <th>Входные перменные</th>\n",
       "      <th>μ</th>\n",
       "      <th>Тип А</th>\n",
       "      <th>Распределение А</th>\n",
       "      <th>Тип B</th>\n",
       "      <th>Распределение B</th>\n",
       "    </tr>\n",
       "  </thead>\n",
       "  <tbody>\n",
       "    <tr>\n",
       "      <th>0</th>\n",
       "      <td>q</td>\n",
       "      <td>1.600000e-19</td>\n",
       "      <td>-</td>\n",
       "      <td>-</td>\n",
       "      <td>-</td>\n",
       "      <td>-</td>\n",
       "    </tr>\n",
       "    <tr>\n",
       "      <th>1</th>\n",
       "      <td>ε</td>\n",
       "      <td>1.200000e+01</td>\n",
       "      <td>-</td>\n",
       "      <td>-</td>\n",
       "      <td>-</td>\n",
       "      <td>-</td>\n",
       "    </tr>\n",
       "    <tr>\n",
       "      <th>2</th>\n",
       "      <td>ε0</td>\n",
       "      <td>8.850000e-12</td>\n",
       "      <td>-</td>\n",
       "      <td>-</td>\n",
       "      <td>-</td>\n",
       "      <td>-</td>\n",
       "    </tr>\n",
       "    <tr>\n",
       "      <th>3</th>\n",
       "      <td>S</td>\n",
       "      <td>5.000000e+00</td>\n",
       "      <td>-</td>\n",
       "      <td>-</td>\n",
       "      <td>0.02</td>\n",
       "      <td>Равномерное</td>\n",
       "    </tr>\n",
       "    <tr>\n",
       "      <th>4</th>\n",
       "      <td>φ</td>\n",
       "      <td>7.300000e-01</td>\n",
       "      <td>0.035</td>\n",
       "      <td>Нормальное</td>\n",
       "      <td>-</td>\n",
       "      <td>-</td>\n",
       "    </tr>\n",
       "  </tbody>\n",
       "</table>\n",
       "</div>"
      ],
      "text/plain": [
       "  Входные перменные             μ  Тип А Распределение А Тип B Распределение B\n",
       "0                 q  1.600000e-19      -               -     -               -\n",
       "1                 ε  1.200000e+01      -               -     -               -\n",
       "2                ε0  8.850000e-12      -               -     -               -\n",
       "3                 S  5.000000e+00      -               -  0.02     Равномерное\n",
       "4                 φ  7.300000e-01  0.035      Нормальное     -               -"
      ]
     },
     "execution_count": 4,
     "metadata": {},
     "output_type": "execute_result"
    }
   ],
   "source": [
    "data = {\"Входные перменные\": [\"q\", \"ε\", \"ε0\",\"S\",\"φ\"],\"μ\": [qq, Es, E0,Ss,fi],\"Тип А\": [\"-\", \"-\", \"-\",\"-\",fid],\"Распределение А\": [\"-\", \"-\", \"-\",\"-\",\"Нормальное\"],\"Тип B\": [\"-\", \"-\", \"-\",0.02,\"-\"],\"Распределение B\": [\"-\", \"-\", \"-\",\"Равномерное\",\"-\"]}\n",
    "data_pandas = pd.DataFrame(data)\n",
    "data_pandas "
   ]
  },
  {
   "cell_type": "markdown",
   "metadata": {},
   "source": [
    "Вычисление погрешности площади "
   ]
  },
  {
   "cell_type": "code",
   "execution_count": 5,
   "metadata": {},
   "outputs": [],
   "source": [
    "Sdu=Sd/2              # Погрешность линейки"
   ]
  },
  {
   "cell_type": "markdown",
   "metadata": {},
   "source": [
    "Так как площадь вычислялась то для ее неопределенности необходимо использовать формулу расчета косвенных погрешностей"
   ]
  },
  {
   "cell_type": "code",
   "execution_count": 6,
   "metadata": {},
   "outputs": [
    {
     "name": "stdout",
     "output_type": "stream",
     "text": [
      "Значение погрешности площади: 2.24\n"
     ]
    }
   ],
   "source": [
    "Su=np.sqrt((2*np.sqrt(Ss))**2*(Sdu)**2)\n",
    "print(\"Значение погрешности площади:\",'%.2f'%Su)"
   ]
  },
  {
   "cell_type": "markdown",
   "metadata": {},
   "source": [
    "Расчет суммарной погрешности"
   ]
  },
  {
   "cell_type": "code",
   "execution_count": 7,
   "metadata": {},
   "outputs": [
    {
     "data": {
      "text/plain": [
       "'Частная производная по S :'"
      ]
     },
     "metadata": {},
     "output_type": "display_data"
    },
    {
     "data": {
      "text/latex": [
       "$\\displaystyle \\frac{4}{S^{3} q ε ε_{0} \\tan{\\left(φ \\right)}}$"
      ],
      "text/plain": [
       "4/(S**3*q*ε*ε0*tan(φ))"
      ]
     },
     "metadata": {},
     "output_type": "display_data"
    },
    {
     "data": {
      "text/plain": [
       "'Частная производная по φ :'"
      ]
     },
     "metadata": {},
     "output_type": "display_data"
    },
    {
     "data": {
      "text/latex": [
       "$\\displaystyle - \\frac{2 \\left(- \\tan^{2}{\\left(φ \\right)} - 1\\right)}{S^{2} q ε ε_{0} \\tan^{2}{\\left(φ \\right)}}$"
      ],
      "text/plain": [
       "-2*(-tan(φ)**2 - 1)/(S**2*q*ε*ε0*tan(φ)**2)"
      ]
     },
     "metadata": {},
     "output_type": "display_data"
    },
    {
     "name": "stdout",
     "output_type": "stream",
     "text": [
      "Значение суммарной неопределённости  : 1.12 * e15\n"
     ]
    }
   ],
   "source": [
    "Ns = sym.diff(N,S)                                                      # Расчет частной производной по S\n",
    "display('Частная производная по S :',Ns)\n",
    "CS = 4/(Ss**3*qq*Es*E0*1e12*np.tan(fi))                                 # Коэффициент чувствительности\n",
    "Nfi = sym.diff(N,φ )                                                    # Расчет частной производной по φ \n",
    "display(\"Частная производная по φ :\",Nfi)\n",
    "Cfi = -2*(-(np.tan(fi))**2-1)/(Ss**2*1e12*qq*Es*E0*(np.tan(fi)**2))     # Коэффициент чувствительности\n",
    "\n",
    "uc = np.sqrt((CS**2)*(Sdu**2)+(Cfi**2)*(fid**2))                        # Суммарная неопределённость \n",
    "print(\"Значение суммарной неопределённости  :\",'%.2f'%(uc/1e15),\"* e15\")"
   ]
  },
  {
   "cell_type": "markdown",
   "metadata": {},
   "source": [
    "Расчет степени свободы"
   ]
  },
  {
   "cell_type": "code",
   "execution_count": 8,
   "metadata": {},
   "outputs": [
    {
     "name": "stdout",
     "output_type": "stream",
     "text": [
      "Так как 24.78 * 1e60 >>30 то k =2.04\n"
     ]
    }
   ],
   "source": [
    "v=(uc)**4/((Sdu**4)/1+(fid**4)/9)*1e-60\n",
    "print(\"Так как\",'%.2f'%v,\"* 1e60 >>30 то k =2.04\")"
   ]
  },
  {
   "cell_type": "code",
   "execution_count": 9,
   "metadata": {},
   "outputs": [
    {
     "name": "stdout",
     "output_type": "stream",
     "text": [
      "Расширенная неопределённость при вероятности охвата 95%: 2.28 *e16\n",
      "Итоговый результат : 5.26 ± 2.28 * e15 = 5.26 e15 ± 43 %\n"
     ]
    }
   ],
   "source": [
    "NN = -2/(Ss**2*qq*1e12*E0*Es*np.tan(-fi))\n",
    "U95=2.04*uc\n",
    "print(\"Расширенная неопределённость при вероятности охвата 95%:\",'%.2f'%(U95/1e15),\"*e16\")\n",
    "U9=U95/NN*100\n",
    "print(\"Итоговый результат :\",'%.2f'%(NN/1e15),\"±\",'%.2f'%(U95/1e15),\"* e15\",\"=\",'%.2f'%(NN/1e15),\"e15\",\"±\",'%.0f'%U9,\"%\")"
   ]
  },
  {
   "cell_type": "code",
   "execution_count": 10,
   "metadata": {},
   "outputs": [
    {
     "name": "stdout",
     "output_type": "stream",
     "text": [
      "Вклад погрешности S в общую неопределённость: 88.97 %\n",
      "Вклад погрешности φ в общую неопределённость: 11.03 %\n"
     ]
    }
   ],
   "source": [
    "PS=(CS*Sdu)**2/uc**2*100\n",
    "print(\"Вклад погрешности S в общую неопределённость:\",'%.2f'%PS,\"%\")\n",
    "Pf=(Cfi*fid)**2/uc**2*100\n",
    "print(\"Вклад погрешности φ в общую неопределённость:\",'%.2f'%Pf,\"%\")"
   ]
  },
  {
   "cell_type": "markdown",
   "metadata": {},
   "source": [
    "Метод Монте-Карло для значения угла"
   ]
  },
  {
   "cell_type": "code",
   "execution_count": 11,
   "metadata": {},
   "outputs": [
    {
     "data": {
      "image/png": "[encoded data removed]",
      "text/plain": [
       "<Figure size 1200x600 with 1 Axes>"
      ]
     },
     "metadata": {
      "needs_background": "light"
     },
     "output_type": "display_data"
    }
   ],
   "source": [
    "num_reps = 1000000\n",
    "fimc = np.random.normal(fi, fid, num_reps)\n",
    "fig, ax = plt.subplots(figsize = [12,6],dpi = 100) \n",
    "n, bin, patches = plt.hist(fimc,bins=75)\n",
    "plt.title('φ')\n",
    "plt.grid(visible=True)\n",
    "plt.show()"
   ]
  },
  {
   "cell_type": "code",
   "execution_count": 12,
   "metadata": {},
   "outputs": [
    {
     "data": {
      "image/png": "[encoded data removed]",
      "text/plain": [
       "<Figure size 1200x600 with 1 Axes>"
      ]
     },
     "metadata": {
      "needs_background": "light"
     },
     "output_type": "display_data"
    }
   ],
   "source": [
    "Smc = np.random.normal(Ss, 0.5, num_reps)\n",
    "fig, ax = plt.subplots(figsize = [12,6],dpi = 100)\n",
    "n, bin, patches = plt.hist(Smc,bins=75)\n",
    "plt.title('S')\n",
    "plt.grid(visible=True)\n",
    "plt.show()"
   ]
  },
  {
   "cell_type": "markdown",
   "metadata": {},
   "source": [
    "Метод Монте-Карло для удельного сопротивления"
   ]
  },
  {
   "cell_type": "code",
   "execution_count": 15,
   "metadata": {},
   "outputs": [
    {
     "data": {
      "image/png": "[encoded data removed]",
      "text/plain": [
       "<Figure size 1200x600 with 1 Axes>"
      ]
     },
     "metadata": {
      "needs_background": "light"
     },
     "output_type": "display_data"
    },
    {
     "name": "stdout",
     "output_type": "stream",
     "text": [
      "Итоговый результат : 4.92 ± 2.37\n"
     ]
    }
   ],
   "source": [
    "mu, sigma = 5.26, 1.08\n",
    "Nmc=np.zeros(num_reps)\n",
    "for i in range(num_reps):\n",
    "    Nmc[i]=-2/(qq*E0*Es*Smc[i]**2*np.tan(-fimc[i])*1e12)*1e-15\n",
    "   \n",
    "f1=np.percentile(Nmc,2.5)\n",
    "f2=np.percentile(Nmc,97.5)\n",
    "fig, ax = plt.subplots(figsize = [12,6],dpi = 100)  \n",
    "n, bin, patches = plt.hist(Nmc,bins=100)\n",
    "plt.title(' p ')\n",
    "plt.grid(visible=True)\n",
    "f6=3.48\n",
    "f8=7.73\n",
    "plt.vlines(x = f1, ymin=0, ymax=80000, colors='blue', ls=':', lw=2, )\n",
    "plt.vlines(x = f2, ymin=0, ymax=80000, colors='blue', ls=':', lw=2, )\n",
    "plt.vlines(x = f6, ymin=0, ymax=80000, colors='red', ls=':', lw=2, )\n",
    "plt.vlines(x = f8, ymin=0, ymax=80000, colors='red', ls=':', lw=2, )\n",
    "plt.plot(bin, 180000/(sigma * np.sqrt(2 * np.pi)) *\n",
    "               np.exp( - (bin - mu)**2 / (2 * sigma**2) ),\n",
    "         linewidth=2, color='r',label='Gauss')\n",
    "plt.legend()\n",
    "plt.show()\n",
    "f11=np.percentile(Nmc,2.5)\n",
    "f22=np.percentile(Nmc,97.5)\n",
    "f3=(bin[np.where(n == n.max())])\n",
    "f4=((f2-f1)/2)\n",
    "\n",
    "print(\"Итоговый результат :\",'%.2f'%f3,\"±\",'%.2f'%f4)\n"
   ]
  },
  {
   "cell_type": "code",
   "execution_count": 16,
   "metadata": {},
   "outputs": [
    {
     "name": "stdout",
     "output_type": "stream",
     "text": [
      "Вклад погрешности S в общую неопределённость: 88.85 %\n"
     ]
    }
   ],
   "source": [
    "Nmc1=np.zeros(num_reps)\n",
    "for i in range(num_reps):\n",
    "    Nmc1[i]=-2/(qq*E0*Es*Smc[i]**2*np.tan(-fi)*1e12)*1e-15\n",
    "f1=np.percentile(Nmc1,2.5)\n",
    "f2=np.percentile(Nmc1,97.5)\n",
    "f5=(((f2-f1)/2)**2)/(f4**2)*100\n",
    "print(\"Вклад погрешности S в общую неопределённость:\",'%.2f'%f5,\"%\")\n"
   ]
  },
  {
   "cell_type": "code",
   "execution_count": 17,
   "metadata": {},
   "outputs": [
    {
     "name": "stdout",
     "output_type": "stream",
     "text": [
      "Вклад погрешности φ в общую неопределённость: 9.55 %\n"
     ]
    }
   ],
   "source": [
    "Nmc2=np.zeros(num_reps)\n",
    "for i in range(num_reps):\n",
    "    Nmc2[i]=-2/(qq*E0*Es*Ss**2*np.tan(-fimc[i])*1e12)*1e-15\n",
    "f1=np.percentile(Nmc2,2.5)\n",
    "f2=np.percentile(Nmc2,97.5)\n",
    "f6=(((f2-f1)/2)**2)/(f4**2)*100\n",
    "print(\"Вклад погрешности φ в общую неопределённость:\",'%.2f'%f6,\"%\")\n"
   ]
  },
  {
   "cell_type": "code",
   "execution_count": 18,
   "metadata": {},
   "outputs": [
    {
     "data": {
      "text/html": [
       "<div>\n",
       "<style scoped>\n",
       "    .dataframe tbody tr th:only-of-type {\n",
       "        vertical-align: middle;\n",
       "    }\n",
       "\n",
       "    .dataframe tbody tr th {\n",
       "        vertical-align: top;\n",
       "    }\n",
       "\n",
       "    .dataframe thead th {\n",
       "        text-align: right;\n",
       "    }\n",
       "</style>\n",
       "<table border=\"1\" class=\"dataframe\">\n",
       "  <thead>\n",
       "    <tr style=\"text-align: right;\">\n",
       "      <th></th>\n",
       "      <th>Сравнение</th>\n",
       "      <th>Монте-Карло</th>\n",
       "      <th>GUM</th>\n",
       "    </tr>\n",
       "  </thead>\n",
       "  <tbody>\n",
       "    <tr>\n",
       "      <th>0</th>\n",
       "      <td>N</td>\n",
       "      <td>4.77</td>\n",
       "      <td>5.23</td>\n",
       "    </tr>\n",
       "    <tr>\n",
       "      <th>1</th>\n",
       "      <td>dN</td>\n",
       "      <td>2.34</td>\n",
       "      <td>2.28</td>\n",
       "    </tr>\n",
       "    <tr>\n",
       "      <th>2</th>\n",
       "      <td>CS</td>\n",
       "      <td>89.00</td>\n",
       "      <td>89.00</td>\n",
       "    </tr>\n",
       "    <tr>\n",
       "      <th>3</th>\n",
       "      <td>Cfi</td>\n",
       "      <td>10.75</td>\n",
       "      <td>11.00</td>\n",
       "    </tr>\n",
       "  </tbody>\n",
       "</table>\n",
       "</div>"
      ],
      "text/plain": [
       "  Сравнение  Монте-Карло    GUM\n",
       "0         N         4.77   5.23\n",
       "1        dN         2.34   2.28\n",
       "2        CS        89.00  89.00\n",
       "3       Cfi        10.75  11.00"
      ]
     },
     "execution_count": 18,
     "metadata": {},
     "output_type": "execute_result"
    }
   ],
   "source": [
    "data1 = {\"Сравнение\": [\"N\", \"dN\", \"CS\",\"Cfi\"],\"Монте-Карло\": [4.77, 2.34, 89,10.75],\"GUM\": [5.23, 2.28, 89 ,11]}\n",
    "data_pandas = pd.DataFrame(data1)\n",
    "data_pandas "
   ]
  },
  {
   "cell_type": "code",
   "execution_count": 19,
   "metadata": {},
   "outputs": [
    {
     "name": "stdout",
     "output_type": "stream",
     "text": [
      "Разница между нижними пределами: 0.5916628753821609\n",
      "Разница между верхними пределами: 5.969856128821223\n",
      "Число значащих разрядов 5.0\n"
     ]
    }
   ],
   "source": [
    "print(\"Разница между нижними пределами:\",abs(f8-f22))\n",
    "print(\"Разница между верхними пределами:\",abs(f11-f6))\n",
    "delta=0.5*10\n",
    "print(\"Число значащих разрядов\",delta)"
   ]
  },
  {
   "cell_type": "markdown",
   "metadata": {},
   "source": [
    "Так как разница между границами меньше чем число значащих разрядов то распределение Гаусса соответствует Монте-Карло"
   ]
  }
 ],
 "metadata": {
  "kernelspec": {
   "display_name": "base",
   "language": "python",
   "name": "python3"
  },
  "language_info": {
   "codemirror_mode": {
    "name": "ipython",
    "version": 3
   },
   "file_extension": ".py",
   "mimetype": "text/x-python",
   "name": "python",
   "nbconvert_exporter": "python",
   "pygments_lexer": "ipython3",
   "version": "3.9.12"
  }
 },
 "nbformat": 4,
 "nbformat_minor": 2
}
